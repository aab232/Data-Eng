{
 "cells": [
  {
   "cell_type": "code",
   "execution_count": 4,
   "id": "440ea120-3bf6-44bb-8b00-2fa9c2b13cc1",
   "metadata": {},
   "outputs": [
    {
     "name": "stdout",
     "output_type": "stream",
     "text": [
      "✅ Data successfully inserted into MongoDB collection: 'DataEngineeringBooks'!\n"
     ]
    }
   ],
   "source": [
    "# Importing libraries I'll use\n",
    "from pymongo import MongoClient  # Lets Python interact with MongoDB\n",
    "import json  # Helps load JSON files\n",
    "\n",
    "# Connecting to my MongoDB database (make sure MongoDB is running locally)\n",
    "client = MongoClient(\"mongodb://localhost:27017/\")\n",
    "\n",
    "# Selecting the database named \"BookStore\"\n",
    "db = client[\"BookStore\"]\n",
    "\n",
    "# Creating (or selecting if it already exists) a collection called \"DataEngineeringBooks\"\n",
    "collection = db[\"DataEngineeringBooks\"]\n",
    "\n",
    "# Opening and loading data from my JSON file (which contains book details)\n",
    "with open(\"books.json\", \"r\") as json_file:\n",
    "    books_data = json.load(json_file)\n",
    "\n",
    "# Inserting the data from the JSON file into my MongoDB collection\n",
    "collection.insert_many(books_data)\n",
    "\n",
    "# Confirming data insertion\n",
    "print(\"✅ Data successfully inserted into MongoDB collection: 'DataEngineeringBooks'!\")\n",
    "\n"
   ]
  },
  {
   "cell_type": "code",
   "execution_count": null,
   "id": "44369b62-b215-4fdc-b6d1-25b600425ca3",
   "metadata": {},
   "outputs": [],
   "source": []
  }
 ],
 "metadata": {
  "kernelspec": {
   "display_name": "Python 3 (ipykernel)",
   "language": "python",
   "name": "python3"
  },
  "language_info": {
   "codemirror_mode": {
    "name": "ipython",
    "version": 3
   },
   "file_extension": ".py",
   "mimetype": "text/x-python",
   "name": "python",
   "nbconvert_exporter": "python",
   "pygments_lexer": "ipython3",
   "version": "3.12.4"
  }
 },
 "nbformat": 4,
 "nbformat_minor": 5
}
