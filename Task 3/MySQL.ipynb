{
 "cells": [
  {
   "cell_type": "code",
   "execution_count": 25,
   "id": "7729291b-0787-4a5e-b765-32bb4e95aeae",
   "metadata": {},
   "outputs": [
    {
     "name": "stdout",
     "output_type": "stream",
     "text": [
      "✅ Database and tables are ready!\n",
      "✅ Data successfully inserted into MySQL!\n",
      "+----+----------------------------------------------------------------------------------+------------------------------------------------------------------------------------------------------------------------------------------------------------------------------------+----------+---------+\n",
      "|    | Author                                                                           | Title                                                                                                                                                                              |   Rating |   Price |\n",
      "|----+----------------------------------------------------------------------------------+------------------------------------------------------------------------------------------------------------------------------------------------------------------------------------+----------+---------|\n",
      "|  0 | François Voron                                                                   | \"Building Data Science Applications with FastAPI - Second Edition: Develop, manage, and deploy efficient machine learning applications with Python\"                                |      4.7 |      47 |\n",
      "|  1 | François Voron                                                                   | \"Building Data Science Applications with FastAPI - Second Edition: Develop, manage, and deploy efficient machine learning applications with Python\"                                |      4.7 |      47 |\n",
      "|  2 | Kedeisha Bryan                                                                   | \"Cracking the Data Engineering Interview: Land your dream job with the help of resume-building tips, over 100 mock questions, and a unique portfolio\"                              |      4   |      26 |\n",
      "|  3 | Kedeisha Bryan                                                                   | \"Cracking the Data Engineering Interview: Land your dream job with the help of resume-building tips, over 100 mock questions, and a unique portfolio\"                              |      4   |      26 |\n",
      "|  4 | Kedeisha Bryan                                                                   | \"Cracking the Data Engineering Interview: Land your dream job with the help of resume-building tips, over 100 mock questions, and a unique portfolio\"                              |      4   |      26 |\n",
      "|  5 | Kedeisha Bryan                                                                   | \"Cracking the Data Engineering Interview: Land your dream job with the help of resume-building tips, over 100 mock questions, and a unique portfolio\"                              |      4   |      26 |\n",
      "|  6 | Richard J. Schiller, David Larochelle                                            | \"Data Engineering Best Practices: Architect robust and cost-effective data solutions in the cloud era\"                                                                             |      5   |      39 |\n",
      "|  7 | Richard J. Schiller, David Larochelle                                            | \"Data Engineering Best Practices: Architect robust and cost-effective data solutions in the cloud era\"                                                                             |      5   |      39 |\n",
      "|  8 | Book 3 of 3: The Innovators of AI and Data Series                                | \"Data Engineering Excellence: Architecting Resilient Systems from Scratch to Scale (The Innovators of AI and Data Series Book 3)\"                                                  |      4.7 |       0 |\n",
      "|  9 | Book 3 of 3: The Innovators of AI and Data Series                                | \"Data Engineering Excellence: Architecting Resilient Systems from Scratch to Scale (The Innovators of AI and Data Series Book 3)\"                                                  |      4.7 |       0 |\n",
      "| 10 | Vlad Riscutia                                                                    | \"Data Engineering on Azure\"                                                                                                                                                        |      4.5 |      43 |\n",
      "| 11 | Vlad Riscutia                                                                    | \"Data Engineering on Azure\"                                                                                                                                                        |      4.5 |      43 |\n",
      "| 12 | Paul Houghton                                                                    | \"Data Engineering with Alteryx: Helping data engineers apply DataOps practices with Alteryx\"                                                                                       |      4.3 |      31 |\n",
      "| 13 | Paul Houghton                                                                    | \"Data Engineering with Alteryx: Helping data engineers apply DataOps practices with Alteryx\"                                                                                       |      4.3 |      31 |\n",
      "| 14 | Trâm Ngọc Phạm, Gonzalo Herreros González                                        | \"Data Engineering with AWS Cookbook: A recipe-based approach to help you tackle data engineering problems with AWS services\"                                                       |      5   |      49 |\n",
      "| 15 | Trâm Ngọc Phạm, Gonzalo Herreros González                                        | \"Data Engineering with AWS Cookbook: A recipe-based approach to help you tackle data engineering problems with AWS services\"                                                       |      5   |      49 |\n",
      "| 16 | Gareth Eagar                                                                     | \"Data Engineering with AWS: Acquire the skills to design and build AWS-based data transformation pipelines like a pro\"                                                             |      4.3 |      24 |\n",
      "| 17 | Gareth Eagar                                                                     | \"Data Engineering with AWS: Acquire the skills to design and build AWS-based data transformation pipelines like a pro\"                                                             |      4.3 |      24 |\n",
      "| 18 | Gareth Eagar                                                                     | \"Data Engineering with AWS: Acquire the skills to design and build AWS-based data transformation pipelines like a pro\"                                                             |      4.3 |      24 |\n",
      "| 19 | Gareth Eagar                                                                     | \"Data Engineering with AWS: Acquire the skills to design and build AWS-based data transformation pipelines like a pro\"                                                             |      4.3 |      24 |\n",
      "| 20 | Pulkit Chadha                                                                    | \"Data Engineering with Databricks Cookbook: Build effective data and AI solutions using Apache Spark, Databricks, and Delta Lake\"                                                  |      4.4 |      39 |\n",
      "| 21 | Pulkit Chadha                                                                    | \"Data Engineering with Databricks Cookbook: Build effective data and AI solutions using Apache Spark, Databricks, and Delta Lake\"                                                  |      4.4 |      39 |\n",
      "| 22 | Roberto Zagni                                                                    | \"Data Engineering with dbt: A practical guide to building a cloud-based, pragmatic, and dependable data platform with SQL\"                                                         |      4.7 |      37 |\n",
      "| 23 | Roberto Zagni                                                                    | \"Data Engineering with dbt: A practical guide to building a cloud-based, pragmatic, and dependable data platform with SQL\"                                                         |      4.7 |      37 |\n",
      "| 24 | Paul Crickard                                                                    | \"Data Engineering with Python: Work with massive datasets to design data models and automate data pipelines using Python\"                                                          |      4.1 |      37 |\n",
      "| 25 | Paul Crickard                                                                    | \"Data Engineering with Python: Work with massive datasets to design data models and automate data pipelines using Python\"                                                          |      4.1 |      37 |\n",
      "| 26 | Vijaya Kumar Suda                                                                | \"Data Labeling in Machine Learning with Python: Explore modern ways to prepare labeled data for training and fine-tuning ML and generative AI models\"                              |      4.6 |      44 |\n",
      "| 27 | Vijaya Kumar Suda                                                                | \"Data Labeling in Machine Learning with Python: Explore modern ways to prepare labeled data for training and fine-tuning ML and generative AI models\"                              |      4.6 |      44 |\n",
      "| 28 | James Densmore                                                                   | \"Data Pipelines Pocket Reference: Moving and Processing Data for Analytics\"                                                                                                        |      4.6 |      17 |\n",
      "| 29 | James Densmore                                                                   | \"Data Pipelines Pocket Reference: Moving and Processing Data for Analytics\"                                                                                                        |      4.6 |      17 |\n",
      "| 30 | Martin Kleppmann                                                                 | \"Designing Data-Intensive Applications: The Big Ideas Behind Reliable, Scalable, and Maintainable Systems\"                                                                         |      4.8 |      47 |\n",
      "| 31 | Martin Kleppmann                                                                 | \"Designing Data-Intensive Applications: The Big Ideas Behind Reliable, Scalable, and Maintainable Systems\"                                                                         |      4.8 |      47 |\n",
      "| 32 | Joe Reis, Matt Housley                                                           | \"Fundamentals of Data Engineering: Plan and Build Robust Data Systems\"                                                                                                             |      4.7 |      43 |\n",
      "| 33 | Joe Reis, Matt Housley                                                           | \"Fundamentals of Data Engineering: Plan and Build Robust Data Systems\"                                                                                                             |      4.7 |      43 |\n",
      "| 34 | Book 1 of 4: Future-Proof Tech Skills: Including AI, Python, SQL, Linux And More | \"Python Data Engineering Resources: Forge Your Path to Success in Data Engineering, Machine Learning and AI (Future-Proof Tech Skills: Including AI, Python, SQL, Linux And More)\" |      4.9 |       9 |\n",
      "| 35 | Book 1 of 4: Future-Proof Tech Skills: Including AI, Python, SQL, Linux And More | \"Python Data Engineering Resources: Forge Your Path to Success in Data Engineering, Machine Learning and AI (Future-Proof Tech Skills: Including AI, Python, SQL, Linux And More)\" |      4.9 |       9 |\n",
      "| 36 | Maja Ferle                                                                       | \"Snowflake Data Engineering\"                                                                                                                                                       |      4.7 |      49 |\n",
      "| 37 | Maja Ferle                                                                       | \"Snowflake Data Engineering\"                                                                                                                                                       |      4.7 |      49 |\n",
      "| 38 | Cole Nussbaumer Knaflic                                                          | \"Storytelling with Data: A Data Visualization Guide for Business Professionals\"                                                                                                    |      4.6 |      21 |\n",
      "| 39 | Cole Nussbaumer Knaflic                                                          | \"Storytelling with Data: A Data Visualization Guide for Business Professionals\"                                                                                                    |      4.6 |      21 |\n",
      "+----+----------------------------------------------------------------------------------+------------------------------------------------------------------------------------------------------------------------------------------------------------------------------------+----------+---------+\n"
     ]
    }
   ],
   "source": [
    "\n",
    "# Loading book data from a CSV file into a DataFrame\n",
    "# This CSV file contains details like titles, authors, prices, and ratings\n",
    "df = pd.read_csv(\"amazon_data_engineering_books.csv\")\n",
    "\n",
    "# Now, I'll insert this data into the MySQL tables\n",
    "for index, row in df.iterrows():\n",
    "    # Checking if all necessary data is present\n",
    "    if pd.notnull(row['Title']) and pd.notnull(row['Author']) and pd.notnull(row['Rating']) and pd.notnull(row['Price']):\n",
    "        # Inserting the author, ignoring duplicates\n",
    "        cursor.execute(\"INSERT IGNORE INTO authors (AuthorName) VALUES (%s)\", (row['Author'],))\n",
    "        conn.commit()\n",
    "\n",
    "        # Retrieving the AuthorID to"
   ]
  },
  {
   "cell_type": "code",
   "execution_count": null,
   "id": "6f66b495-a5a7-4a15-9cb5-0da68e826ba5",
   "metadata": {},
   "outputs": [],
   "source": []
  }
 ],
 "metadata": {
  "kernelspec": {
   "display_name": "Python 3 (ipykernel)",
   "language": "python",
   "name": "python3"
  },
  "language_info": {
   "codemirror_mode": {
    "name": "ipython",
    "version": 3
   },
   "file_extension": ".py",
   "mimetype": "text/x-python",
   "name": "python",
   "nbconvert_exporter": "python",
   "pygments_lexer": "ipython3",
   "version": "3.12.4"
  }
 },
 "nbformat": 4,
 "nbformat_minor": 5
}
