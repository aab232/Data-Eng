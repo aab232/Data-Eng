{
 "cells": [
  {
   "cell_type": "code",
   "execution_count": 3,
   "id": "a2ce685a-957f-4bb0-a694-4935a8460387",
   "metadata": {},
   "outputs": [
    {
     "name": "stdout",
     "output_type": "stream",
     "text": [
      "✅ Data successfully converted to JSON and saved as 'books.json'!\n"
     ]
    },
    {
     "name": "stderr",
     "output_type": "stream",
     "text": [
      "/var/folders/sw/kb0v_hjn6cnbckgdzw5_lkxh0000gn/T/ipykernel_24461/2422963191.py:8: FutureWarning: Setting an item of incompatible dtype is deprecated and will raise an error in a future version of pandas. Value 'Unknown' has dtype incompatible with float64, please explicitly cast to a compatible dtype first.\n",
      "  df.fillna(\"Unknown\", inplace=True)\n"
     ]
    }
   ],
   "source": [
    "import pandas as pd\n",
    "import json\n",
    "\n",
    "# Load the CSV file\n",
    "df = pd.read_csv(\"amazon_data_engineering_books.csv\")\n",
    "\n",
    "# Replace NaN values with \"Unknown\"\n",
    "df.fillna(\"Unknown\", inplace=True)\n",
    "\n",
    "# Convert DataFrame to JSON\n",
    "json_data = df.to_dict(orient=\"records\")\n",
    "\n",
    "# Save JSON data to a file\n",
    "with open(\"books.json\", \"w\") as json_file:\n",
    "    json.dump(json_data, json_file, indent=4)\n",
    "\n",
    "print(\"✅ Data successfully converted to JSON and saved as 'books.json'!\")\n"
   ]
  },
  {
   "cell_type": "code",
   "execution_count": null,
   "id": "064974bc-9454-447a-9b81-888326cd49fe",
   "metadata": {},
   "outputs": [],
   "source": []
  }
 ],
 "metadata": {
  "kernelspec": {
   "display_name": "Python 3 (ipykernel)",
   "language": "python",
   "name": "python3"
  },
  "language_info": {
   "codemirror_mode": {
    "name": "ipython",
    "version": 3
   },
   "file_extension": ".py",
   "mimetype": "text/x-python",
   "name": "python",
   "nbconvert_exporter": "python",
   "pygments_lexer": "ipython3",
   "version": "3.12.4"
  }
 },
 "nbformat": 4,
 "nbformat_minor": 5
}
